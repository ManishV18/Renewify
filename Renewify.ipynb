{
 "cells": [
  {
   "cell_type": "markdown",
   "id": "530663eb-9906-4eda-b5c0-4eac98854adb",
   "metadata": {},
   "source": [
    "# RENEWIFY \n",
    "### Machine Learning in Global Energy Sustainability\n",
    "\n",
    "__________\n",
    "\n",
    "Name : Manish Subhash Vankudre"
   ]
  },
  {
   "cell_type": "markdown",
   "id": "621e042f-e960-4f71-86db-866d26d2f1ce",
   "metadata": {
    "jp-MarkdownHeadingCollapsed": true
   },
   "source": [
    "## Web Scraping"
   ]
  },
  {
   "cell_type": "code",
   "execution_count": 1,
   "id": "1b293485-5405-4534-b039-fcf268139588",
   "metadata": {},
   "outputs": [],
   "source": [
    "# importing libraries\n",
    "\n",
    "import wikipedia as wp\n",
    "import wikipediaapi\n",
    "import numpy as np\n",
    "import pandas as pd\n",
    "from bs4 import BeautifulSoup\n",
    "import matplotlib.pyplot as plt\n",
    "import seaborn as sns\n",
    "from scipy.interpolate import make_interp_spline\n",
    "from IPython.display import display, HTML\n",
    "import ipywidgets as widgets\n",
    "from ipywidgets import interact, interactive_output\n",
    "import warnings\n",
    "warnings.simplefilter(action='ignore', category=FutureWarning)\n",
    "\n",
    "from sklearn.cluster import KMeans\n",
    "from sklearn.preprocessing import StandardScaler\n"
   ]
  },
  {
   "cell_type": "markdown",
   "id": "0911a578-9423-42a0-bda8-c1dfddf5472f",
   "metadata": {},
   "source": [
    "The below code uses the Wikipedia API to fetch the text content of Wikipedia pages. It defines a function, `fetch_wikipedia_html_content`, that retrieves the content of a specified Wikipedia page. The titles for pages on carbon dioxide emissions and renewable electricity production are used to fetch their respective contents."
   ]
  },
  {
   "cell_type": "code",
   "execution_count": 2,
   "id": "70f1bbda-faa3-4a69-80ca-3eae6549ee16",
   "metadata": {},
   "outputs": [],
   "source": [
    "wiki_wiki = wikipediaapi.Wikipedia('Manish/RENEWIFY', 'en')\n",
    "\n",
    "def fetch_wikipedia_html_content(title):\n",
    "    try:\n",
    "        page = wiki_wiki.page(title)\n",
    "        if page.exists():\n",
    "            html_content = page.text\n",
    "            return html_content\n",
    "        else:\n",
    "            print(f\"Page not found: {title}\")\n",
    "            return None\n",
    "    except wikipediaapi.exceptions.HTTPTimeoutError as e:\n",
    "        print(f\"Timeout error: {e}\")\n",
    "        return None\n",
    "\n",
    "co2_emissions_title = \"List_of_countries_by_carbon_dioxide_emissions\"\n",
    "renewable_energy_title = \"List_of_countries_by_renewable_electricity_production\"\n",
    "\n",
    "co2_emissions_html_content = fetch_wikipedia_html_content(co2_emissions_title)\n",
    "renewable_energy_html_content = fetch_wikipedia_html_content(renewable_energy_title)"
   ]
  },
  {
   "cell_type": "code",
   "execution_count": 3,
   "id": "5c052513-0733-425e-a45f-40f94d8a1108",
   "metadata": {},
   "outputs": [
    {
     "name": "stdout",
     "output_type": "stream",
     "text": [
      "This is a list of sovereign states and territories by carbon dioxide emissions due to certain forms of human activity, based on the EDGAR database created by European Commission and Netherlands Environmental Assessment Agency. The following table lists the 1970, 1990, 2005, 2017 and 2022 annual CO2 emissions estimates (in kilotons of CO2 per year) along with a list of calculated emissions per capita (in tons of CO2 per year).\n",
      "The data only consider carbon dioxide emissions from the burning of fossil fuels and cement manufacture, but not emissions from land use, land-use change and forestry. Over the last 150 years, estimated cumulative emissions from land use and land-use change represent approximately one-third of total cumulative anthropogenic CO2 emissions. Emissions from international shipping or bunker fuels are also not included in national figures, which can make a large difference for small countries with important ports. \n",
      "In 2022, CO2 emissions from the top 10 countries with the highest emissions accounted for almost two thirds of the global total. Since 2006, China has been emitting more CO2 than any other country. However, the main disadvantage of measuring total national emissions is that it does not take population size into account. China has the largest CO2 emissions in the world, but also the largest population. Some argue that for a fair comparison, emissions should be analyzed in terms of the amount of CO2 per capita. Their main argument is illustrated by CO2 per capita emissions in 2022, China's levels (8.85) are almost half those of the United States (14.44) and less than a sixth of those of Palau (59.00 – the country with the highest emissions of CO2 per capita).\n",
      "Measures of territorial-based emissions, also known as production-based emissions, do not account for emissions embedded in global trade, where emissions may be imported or exported in the form of traded goods, as it only reports emissions emitted within geographical boundaries. Accordingly, a proportion of the CO2 produced and reported in Asia and Africa is for the production of goods consumed in Europe and North America.\n",
      "Greenhouse gases (GHG) – primarily carbon dioxide but also others, including methane and chlorofluorocarbons – trap heat in the atmosphere, leading to global warming. Higher temperatures then act on the climate, with varying effects. For example, dry regions might become drier while, at the poles, the ice caps are melting, causing higher sea levels. In 2016, the global average temperature was already 1.1°C above pre-industrial levels.\n",
      "According to the review of the scientific literature conducted by the Intergovernmental Panel on Climate Change (IPCC), carbon dioxide is the most important anthropogenic greenhouse gas by warming contribution. The other major anthropogenic greenhouse gases: 147 ) are not included in the following list, nor are humans emissions of water vapor (H2O), the most important greenhouse gases, as they are negligible compared to naturally occurring quantities. Space-based measurements of carbon dioxide should allow independent monitoring in the mid-2020s.\n",
      "\n",
      "Per capita CO2 emissions\n",
      "Fossil CO2 emissions by country/region\n",
      "The data in the following table is extracted from EDGAR - Emissions Database for Global Atmospheric Research.\n",
      "\n",
      "Maps and charts\n",
      "Notes\n",
      "References\n",
      "See also\n",
      "List of countries by carbon dioxide emissions per capita\n",
      "List of countries by carbon intensity of GDP\n",
      "List of countries by renewable electricity production\n",
      "List of countries by greenhouse gas emissions\n",
      "List of countries by greenhouse gas emissions per person\n",
      "Top contributors to greenhouse gas emissions\n",
      "United Nations | Sustainable Development Goal 13 - Climate action\n",
      "General:\n",
      "\n",
      "World energy supply and consumption\n",
      "\n",
      "External links\n",
      "UN Sustainable Development Knowledge Platform – The SDGs\n",
      "GHG data from UNFCCC – United Nations Framework Convention on Climate Change greenhouse gas (GHG) emissions data\n",
      "CO2 emissions in kilotons – World Bank\n",
      "CO2 emissions in metric tons per capita – Google Public Data Explorer\n"
     ]
    }
   ],
   "source": [
    "print(co2_emissions_html_content)"
   ]
  },
  {
   "cell_type": "code",
   "execution_count": 4,
   "id": "aa1251df-af4b-4cb6-aa3a-e104d54e6d03",
   "metadata": {},
   "outputs": [
    {
     "name": "stdout",
     "output_type": "stream",
     "text": [
      "This is a list of countries and dependencies by electricity generation from renewable sources each year.\n",
      "Renewables accounted for 28% of electric generation in 2021, consisting of hydro (55%), wind (23%), biomass (13%), solar (7%) and geothermal (1%). China produced 31% of global renewable electricity, followed by the United States (11%), Brazil (6.4%), Canada (5.4%) and India (3.9%).\n",
      "Renewable investment reached almost $500 billion globally in 2022, amounting to 83% of new electric capacity that year. The renewable energy industry employs almost 14 million people.\n",
      "\n",
      "List\n",
      "Data are from IRENA unless otherwise specified, and are for the year 2021.\n",
      "\n",
      "See also\n",
      "\n",
      "List of countries by carbon dioxide emissions\n",
      "List of countries by carbon dioxide emissions per capita\n",
      "List of countries by electricity consumption\n",
      "List of countries by electricity production\n",
      "List of countries by energy intensity\n",
      "List of countries by greenhouse gas emissions\n",
      "List of countries by greenhouse gas emissions per person\n",
      "List of countries by total primary energy consumption and production\n",
      "Top contributors to greenhouse gas emissions\n",
      "\n",
      "\n",
      "== References ==\n"
     ]
    }
   ],
   "source": [
    "print(renewable_energy_html_content)"
   ]
  },
  {
   "cell_type": "markdown",
   "id": "4d74b0bc-8867-4f2c-8d15-59b3b30243fc",
   "metadata": {},
   "source": [
    "__________\n",
    "\n",
    "\n",
    "The below code sets a user agent and defines a function to fetch the HTML content of a Wikipedia page using the \"wikipedia\" library. The user agent helps in compliance with Wikipedia's guidelines for API usage."
   ]
  },
  {
   "cell_type": "code",
   "execution_count": 5,
   "id": "87ea2b7b-25e3-4a4a-83ab-71ff42780762",
   "metadata": {},
   "outputs": [],
   "source": [
    "wp.set_user_agent(\"Manish/Renewable_Revolution\")\n",
    "\n",
    "def fetch_wikipedia_html(title):\n",
    "    try:\n",
    "        page = wp.page(title)\n",
    "        html_content = page.html()\n",
    "        return html_content\n",
    "    except wp.exceptions.DisambiguationError as e:\n",
    "        print(f\"Ambiguous term: {e.options}\")\n",
    "    except wp.exceptions.HTTPTimeoutError as e:\n",
    "        print(f\"Timeout error: {e}\")\n",
    "    except wp.exceptions.PageError as e:\n",
    "        print(f\"Page not found: {e}\")"
   ]
  },
  {
   "cell_type": "markdown",
   "id": "88a1e632-fb40-4aa1-8786-3f7485a02ee6",
   "metadata": {},
   "source": [
    "The function `parse_html_table` takes HTML content as input, searches for a table with the class 'wikitable', and extracts data from its rows. It counts the number of columns, iterates through rows, and retrieves text from table cells. The result is a structured data representation of the HTML table in a dataframe."
   ]
  },
  {
   "cell_type": "code",
   "execution_count": 6,
   "id": "860ed962-6692-4d63-8d49-81375c4905b0",
   "metadata": {},
   "outputs": [],
   "source": [
    "def parse_html_table(html, include_change_direction=False):\n",
    "    soup = BeautifulSoup(html, 'html.parser')\n",
    "    table = soup.find('table', {'class': 'wikitable'})\n",
    "    \n",
    "    if not table:\n",
    "        print(\"No table found.\")\n",
    "        return None\n",
    "\n",
    "    rows = table.find_all('tr')\n",
    "    data = []\n",
    "    \n",
    "    num_columns = max(len(row.find_all(['th', 'td'])) for row in rows)\n",
    "\n",
    "    for row in rows:\n",
    "        columns = row.find_all(['th', 'td'])\n",
    "        row_data = [col.get_text(strip=True) for col in columns]\n",
    "        \n",
    "        if include_change_direction:\n",
    "            img_tag = row.find('img', alt=['Positive decrease', 'Negative increase'])\n",
    "            if img_tag:\n",
    "                change_direction = 'positive_decrease' if 'Positive decrease' in img_tag['alt'] else 'negative_increase'\n",
    "            else:\n",
    "                change_direction = pd.NA\n",
    "            row_data.append(change_direction)\n",
    "\n",
    "        row_data += [pd.NA] * (num_columns - len(row_data))\n",
    "\n",
    "        data.append(row_data)\n",
    "    \n",
    "    return data"
   ]
  },
  {
   "cell_type": "code",
   "execution_count": null,
   "id": "fcd08789-632b-4571-ac8c-e82851d7f470",
   "metadata": {},
   "outputs": [],
   "source": [
    "co2_emissions_title = \"List_of_countries_by_carbon_dioxide_emissions\"\n",
    "renewable_energy_title = \"List_of_countries_by_renewable_electricity_production\"\n",
    "\n",
    "co2_emissions_html = fetch_wikipedia_html(co2_emissions_title)\n",
    "renewable_energy_html = fetch_wikipedia_html(renewable_energy_title)"
   ]
  },
  {
   "cell_type": "code",
   "execution_count": null,
   "id": "4a2b5e6c-a4b7-4468-b5ba-121045244529",
   "metadata": {},
   "outputs": [],
   "source": [
    "co2_emissions_data = parse_html_table(co2_emissions_html, include_change_direction=True)\n",
    "\n",
    "co2_emissions_columns = co2_emissions_data[0] + ['Change Direction']\n",
    "\n",
    "co2_emissions_df = pd.DataFrame(co2_emissions_data[1:], columns=co2_emissions_columns)"
   ]
  },
  {
   "cell_type": "code",
   "execution_count": null,
   "id": "b1519837-433d-4817-9d43-4887df9c4ae9",
   "metadata": {},
   "outputs": [],
   "source": [
    "co2_emissions_df.head()"
   ]
  },
  {
   "cell_type": "code",
   "execution_count": null,
   "id": "e3ee2079-6aad-4600-b0de-6699813d9bac",
   "metadata": {},
   "outputs": [],
   "source": [
    "co2_emissions_df.info()"
   ]
  },
  {
   "cell_type": "code",
   "execution_count": null,
   "id": "3751fd37-35d8-4645-9a2f-0897345b5dd7",
   "metadata": {},
   "outputs": [],
   "source": [
    "renewable_energy_data = parse_html_table(renewable_energy_html, include_change_direction=False)\n",
    "\n",
    "renewable_energy_columns = renewable_energy_data[0]\n",
    "\n",
    "renewable_energy_df = pd.DataFrame(renewable_energy_data[1:], columns=renewable_energy_columns)"
   ]
  },
  {
   "cell_type": "code",
   "execution_count": null,
   "id": "cc7b191f-66a3-40df-bf37-cde1e7a2040f",
   "metadata": {},
   "outputs": [],
   "source": [
    "renewable_energy_df.head()"
   ]
  },
  {
   "cell_type": "code",
   "execution_count": null,
   "id": "3586d24f-a80a-462d-988f-79144c25c640",
   "metadata": {},
   "outputs": [],
   "source": [
    "renewable_energy_df.info()"
   ]
  },
  {
   "cell_type": "code",
   "execution_count": null,
   "id": "c674aaf8-79ed-449d-b4af-6ec08df03ddd",
   "metadata": {},
   "outputs": [],
   "source": []
  },
  {
   "cell_type": "markdown",
   "id": "b6f22d22-d3ab-43de-b69e-8ce4a4315270",
   "metadata": {
    "jp-MarkdownHeadingCollapsed": true
   },
   "source": [
    "## Data Cleaning\n"
   ]
  },
  {
   "cell_type": "markdown",
   "id": "aa24196e-a702-4334-82f6-dcdbe1ca2d29",
   "metadata": {},
   "source": [
    "#### Data Cleaning - co2_emissions_df"
   ]
  },
  {
   "cell_type": "code",
   "execution_count": null,
   "id": "53b6a446-342f-49f6-97ec-a8cc77c8836a",
   "metadata": {},
   "outputs": [],
   "source": [
    "print(\"Unique column names in the DataFrame:\")\n",
    "print(co2_emissions_df.columns)"
   ]
  },
  {
   "cell_type": "code",
   "execution_count": null,
   "id": "71893fdb-3fbd-4196-803a-89d667904b8f",
   "metadata": {},
   "outputs": [],
   "source": [
    "ce_new_column_names = ['country/territory', 'fossil_CO2_emissions_1970', 'fossil_CO2_emissions_1990', 'fossil_CO2_emissions_2005', 'fossil_CO2_emissions_2017', 'fossil_CO2_emissions_2022', 'per_capita_co2_2022', 'percent_of_world', 'percent_change' ,'change_direction']\n",
    "\n",
    "co2_emissions_df.columns = ce_new_column_names"
   ]
  },
  {
   "cell_type": "markdown",
   "id": "9441d229-f887-4514-9dbe-4d03f746e1d8",
   "metadata": {},
   "source": [
    "This code assigns meaningful column names to a DataFrame (`co2_emissions_df`). The new column names describe information about fossil CO2 emissions, per capita CO2 in 2022, percentage of global emissions, and more. It improves data clarity and analysis."
   ]
  },
  {
   "cell_type": "code",
   "execution_count": null,
   "id": "a9ae9e0b-3fc0-439a-9ba6-59116acd9f64",
   "metadata": {},
   "outputs": [],
   "source": [
    "co2_emissions_df.head()"
   ]
  },
  {
   "cell_type": "code",
   "execution_count": null,
   "id": "91124a80-4c68-40e4-9ade-29c33d3f118d",
   "metadata": {},
   "outputs": [],
   "source": [
    "co2_emissions_df = co2_emissions_df.iloc[6:]\n",
    "\n",
    "co2_emissions_df.reset_index(drop=True, inplace=True)"
   ]
  },
  {
   "cell_type": "markdown",
   "id": "0dbd3282-14cb-43ac-b771-249e77b484d4",
   "metadata": {},
   "source": [
    "Removed irrelevant rows from `co2_emissions_df` starting from the 7th row. Reset the index to ensure a clean structure. This code is used to clean and prepare data for analysis, focusing on relevant information."
   ]
  },
  {
   "cell_type": "code",
   "execution_count": null,
   "id": "2b5da376-f078-4b4b-91e9-21d70798810b",
   "metadata": {},
   "outputs": [],
   "source": [
    "co2_emissions_df.head()"
   ]
  },
  {
   "cell_type": "code",
   "execution_count": null,
   "id": "4c3b25c5-575d-4a9d-b9e2-d795035d469a",
   "metadata": {},
   "outputs": [],
   "source": [
    "co2_emissions_df.replace('', np.nan, inplace=True)"
   ]
  },
  {
   "cell_type": "code",
   "execution_count": null,
   "id": "ede29b26-4df0-422b-8aeb-ada9687f23e2",
   "metadata": {},
   "outputs": [],
   "source": [
    "co2_emissions_df['country/territory'] = co2_emissions_df['country/territory'].str.capitalize()"
   ]
  },
  {
   "cell_type": "code",
   "execution_count": null,
   "id": "2c2a499e-5d93-4df8-9fdf-1f7097eec4cc",
   "metadata": {},
   "outputs": [],
   "source": [
    "co2_emissions_df['percent_of_world'] = co2_emissions_df['percent_of_world'].str.replace(',', '').str.extract('(\\d+\\.\\d{3})').astype(float)\n",
    "co2_emissions_df['percent_change'] = co2_emissions_df['percent_change'].str.replace(',', '').str.extract('(\\d+\\.\\d{1})').astype(float)\n",
    "\n",
    "columns_to_convert = co2_emissions_df.columns.difference(['country/territory' ,'percent_of_world' , 'percent_change' ,'change_direction'])\n",
    "co2_emissions_df[columns_to_convert] = co2_emissions_df[columns_to_convert].apply(lambda x: x.str.replace(',', '')).astype(float)"
   ]
  },
  {
   "cell_type": "markdown",
   "id": "75473884-52ed-48e7-8bfe-8470cf5024c5",
   "metadata": {},
   "source": [
    "The code normalizes numerical columns in a DataFrame, addressing formatting issues like commas. It converts 'percent_of_world' and 'percent_change' columns to numeric format, removes commas, and extracts specified digit patterns. Other columns are also converted by removing commas and changing data type to float. This ensures consistent numeric representation, aiding analysis in a tabular data context."
   ]
  },
  {
   "cell_type": "code",
   "execution_count": null,
   "id": "8c83e2e9-252f-46ad-a3a6-30135f469b4e",
   "metadata": {},
   "outputs": [],
   "source": [
    "co2_emissions_df.head()"
   ]
  },
  {
   "cell_type": "code",
   "execution_count": null,
   "id": "615f181e-bf6a-409e-a771-ddab690a8fe4",
   "metadata": {},
   "outputs": [],
   "source": [
    "co2_emissions_df['percent_change'] = np.where(co2_emissions_df['change_direction'] == 'negative_increase', -co2_emissions_df['percent_change'], co2_emissions_df['percent_change'])"
   ]
  },
  {
   "cell_type": "markdown",
   "id": "b1b22b58-c845-4854-b856-7d679bcf4eba",
   "metadata": {},
   "source": [
    "Based on arrow images on the website, a 'change_direction' column was created. If the arrow was down ('negative_increase'), the 'percent_change' column was negated for consistency. This ensures uniformity in representing percentage changes, making it easier for analysis and interpretation of carbon dioxide emissions data."
   ]
  },
  {
   "cell_type": "code",
   "execution_count": null,
   "id": "cd2746e7-4e74-4d57-86bb-c0cf624f81a4",
   "metadata": {},
   "outputs": [],
   "source": [
    "co2_emissions_df.head()"
   ]
  },
  {
   "cell_type": "code",
   "execution_count": null,
   "id": "3985b550-ffce-48ac-ac9a-93531bdf9b24",
   "metadata": {},
   "outputs": [],
   "source": [
    "co2_emissions_df.info()"
   ]
  },
  {
   "cell_type": "code",
   "execution_count": null,
   "id": "bd5b0d14-3e55-489b-8772-e858e6023283",
   "metadata": {},
   "outputs": [],
   "source": [
    "co2_emissions_df.columns"
   ]
  },
  {
   "cell_type": "markdown",
   "id": "6b436f6f-ba8b-46f0-90de-b1492b0ce173",
   "metadata": {},
   "source": [
    "#### Data Cleaning - renewable_energy_df"
   ]
  },
  {
   "cell_type": "code",
   "execution_count": null,
   "id": "f9a9ef10-184a-41d7-824d-dabc57f73ac9",
   "metadata": {},
   "outputs": [],
   "source": [
    "renewable_energy_df = renewable_energy_df.iloc[1: ,:]\n",
    "\n",
    "renewable_energy_df.reset_index(drop=True, inplace=True)"
   ]
  },
  {
   "cell_type": "code",
   "execution_count": null,
   "id": "bd3e29fa-0969-4651-b7db-86dd8ae5526a",
   "metadata": {},
   "outputs": [],
   "source": [
    "re_new_column_names = ['country/dependency', 'percent_renewable', 'renewable_generation(GWh)', 'percent_hydro', 'percent_wind', 'percent_bio', 'percent_solar' , 'percent_geo']\n",
    "\n",
    "renewable_energy_df.columns = re_new_column_names"
   ]
  },
  {
   "cell_type": "markdown",
   "id": "b9456475-2903-4a6b-a470-6da439bef945",
   "metadata": {},
   "source": [
    "Column renaming, assigning more descriptive names to the data columns like 'country,' 'percent_renewable,' 'renewable_generation,' 'percent_hydro,' 'percent_wind,' 'percent_bio,' 'percent_solar,' 'percent_geo.' Enhances clarity and readability, facilitating better analysis and understanding of renewable energy data."
   ]
  },
  {
   "cell_type": "code",
   "execution_count": null,
   "id": "73445d94-3ba3-425e-8321-ec921e6a6703",
   "metadata": {},
   "outputs": [],
   "source": [
    "renewable_energy_df.head()"
   ]
  },
  {
   "cell_type": "code",
   "execution_count": null,
   "id": "ef1b823c-8437-482d-a5a5-819aa790ac27",
   "metadata": {},
   "outputs": [],
   "source": [
    "renewable_energy_df.columns"
   ]
  },
  {
   "cell_type": "code",
   "execution_count": null,
   "id": "e1c7b44a-8fcc-42ce-8f6e-de9d8575c9c7",
   "metadata": {},
   "outputs": [],
   "source": [
    "renewable_energy_df.replace('', np.nan, inplace=True)"
   ]
  },
  {
   "cell_type": "code",
   "execution_count": null,
   "id": "150b277a-4d63-436e-aae8-28d914fcb7df",
   "metadata": {},
   "outputs": [],
   "source": [
    "renewable_energy_df['country/dependency'] = renewable_energy_df['country/dependency'].str.capitalize()"
   ]
  },
  {
   "cell_type": "code",
   "execution_count": null,
   "id": "dab6812e-8bf1-4afb-abb5-17bd158928e4",
   "metadata": {},
   "outputs": [],
   "source": [
    "columns_to_process = ['percent_renewable', 'percent_hydro', 'percent_wind', 'percent_bio', 'percent_solar', 'percent_geo']\n",
    "\n",
    "renewable_energy_df[columns_to_process] = renewable_energy_df[columns_to_process].apply(lambda x: x.map(lambda y: float(y[:-1].replace(',', ''))))"
   ]
  },
  {
   "cell_type": "code",
   "execution_count": null,
   "id": "e4713186-214b-4ba1-b026-2e8730b63b90",
   "metadata": {},
   "outputs": [],
   "source": [
    "renewable_energy_df['renewable_generation(GWh)'] = renewable_energy_df['renewable_generation(GWh)'].str.replace(',', '').astype(float)"
   ]
  },
  {
   "cell_type": "markdown",
   "id": "42804569-7dee-4fc3-82ec-1e3a74b87ff7",
   "metadata": {},
   "source": [
    "The data cleaning step involves converting percentage values in the columns ['percent_renewable', 'percent_hydro', 'percent_wind', 'percent_bio', 'percent_solar', 'percent_geo'] from strings to numerical format. We removed the percentage sign, commas, and converted the values to float. This ensures accurate analysis and visualization as numerical data is easier to work with, providing meaningful insights into renewable energy statistics."
   ]
  },
  {
   "cell_type": "code",
   "execution_count": null,
   "id": "19e393fb-3a4f-408d-992c-909d32924899",
   "metadata": {},
   "outputs": [],
   "source": [
    "renewable_energy_df.head()"
   ]
  },
  {
   "cell_type": "code",
   "execution_count": null,
   "id": "ae4f1a15-cd56-4cd2-8daf-40865e9ec3f3",
   "metadata": {},
   "outputs": [],
   "source": [
    "renewable_energy_df.info()"
   ]
  },
  {
   "cell_type": "code",
   "execution_count": null,
   "id": "9c03f77f-b13e-468a-93a9-b24631d2ab44",
   "metadata": {},
   "outputs": [],
   "source": []
  },
  {
   "cell_type": "code",
   "execution_count": null,
   "id": "037d74ab-24e4-4f41-b057-2c60d51b32be",
   "metadata": {},
   "outputs": [],
   "source": []
  },
  {
   "cell_type": "code",
   "execution_count": null,
   "id": "bf4b48ea-32c6-472b-a927-98ee7e3ccb2f",
   "metadata": {},
   "outputs": [],
   "source": [
    "co2_emissions_df.columns"
   ]
  },
  {
   "cell_type": "code",
   "execution_count": null,
   "id": "206aca85-2b33-4e1b-a65a-cbfe7e28cb6a",
   "metadata": {},
   "outputs": [],
   "source": [
    "renewable_energy_df.columns"
   ]
  },
  {
   "cell_type": "code",
   "execution_count": null,
   "id": "36e2b43a-b6c7-4064-9f6b-4096aba841df",
   "metadata": {},
   "outputs": [],
   "source": []
  },
  {
   "cell_type": "markdown",
   "id": "d7988340-0823-45de-aab2-51a1c353d607",
   "metadata": {
    "jp-MarkdownHeadingCollapsed": true
   },
   "source": [
    "## Data Visualization"
   ]
  },
  {
   "cell_type": "code",
   "execution_count": null,
   "id": "77e80713-04d8-485e-8c74-bf20ad6f06fc",
   "metadata": {},
   "outputs": [],
   "source": [
    "co2_emissions_df.head()"
   ]
  },
  {
   "cell_type": "code",
   "execution_count": null,
   "id": "6ca3aca5-4280-4add-b3b6-3d04d9851adf",
   "metadata": {},
   "outputs": [],
   "source": [
    "co2_emissions_df.columns"
   ]
  },
  {
   "cell_type": "code",
   "execution_count": null,
   "id": "02004968-d7cb-4c3c-9a8b-12bc0b991e9d",
   "metadata": {},
   "outputs": [],
   "source": [
    "renewable_energy_df.head()"
   ]
  },
  {
   "cell_type": "code",
   "execution_count": null,
   "id": "add1e0e7-26e4-4125-834b-89fca3a81802",
   "metadata": {},
   "outputs": [],
   "source": [
    "co2_emissions_df.describe()"
   ]
  },
  {
   "cell_type": "code",
   "execution_count": null,
   "id": "c44e531e-a8ad-4762-a1e0-f62f9369eb0c",
   "metadata": {},
   "outputs": [],
   "source": [
    "co2_emissions_df[['per_capita_co2_2022']].hist(bins=20, figsize=(8, 6))\n",
    "plt.title('Distribution of Per Capita CO2 Emissions in 2022')\n",
    "plt.xlabel('Per Capita CO2 Emissions (Metric Tons)')\n",
    "plt.ylabel('Frequency')\n",
    "plt.show()\n"
   ]
  },
  {
   "cell_type": "markdown",
   "id": "ac58c102-1ddc-4cdb-a501-72a96b77162c",
   "metadata": {},
   "source": [
    "The histogram visualizes the distribution of per capita CO2 emissions in 2022. The x-axis represents the range of emissions, and the y-axis shows the frequency of countries falling into each range. This helps analyze the variation in individual emission levels, providing insights into global environmental impact and guiding sustainable policies.\n",
    "\n",
    "_____"
   ]
  },
  {
   "cell_type": "code",
   "execution_count": null,
   "id": "b262268c-d8a0-4857-84ef-fda097cbc616",
   "metadata": {},
   "outputs": [],
   "source": [
    "top_countries = co2_emissions_df.nlargest(15, 'fossil_CO2_emissions_2022')\n",
    "plt.figure(figsize=(12, 6))\n",
    "plt.bar(top_countries['country/territory'], top_countries['fossil_CO2_emissions_2022'] , color=\"orange\")\n",
    "plt.xlabel('Country')\n",
    "plt.ylabel('Total CO2 Emissions in 2022 (Million Metric Tons)')\n",
    "plt.title('Top 15 Countries by Total CO2 Emissions in 2022')\n",
    "plt.xticks(rotation=45, ha='right')\n",
    "plt.show()"
   ]
  },
  {
   "cell_type": "markdown",
   "id": "28c6bafe-94e7-42f7-9387-50c656e31f4a",
   "metadata": {},
   "source": [
    "This bar plot illustrates the top 15 countries by their total CO2 emissions in 2022. Each bar represents a country, and the height of the bar corresponds to its emissions. The purpose is to visually compare and identify the countries with the highest emissions, providing insights into global carbon output.\n",
    "\n",
    "____"
   ]
  },
  {
   "cell_type": "code",
   "execution_count": null,
   "id": "e2465a48-8b36-45b4-8741-37a15393e5f0",
   "metadata": {},
   "outputs": [],
   "source": [
    "top_countries = co2_emissions_df.sort_values(by='per_capita_co2_2022', ascending=False).head(15)\n",
    "plt.figure(figsize=(12, 6))\n",
    "plt.bar(top_countries['country/territory'], top_countries['per_capita_co2_2022'] , color =\"magenta\")\n",
    "plt.xlabel('Country')\n",
    "plt.ylabel('Total CO2 Emissions (2022)')\n",
    "plt.title('Top 15 Countries by CO2 Emissions (2022)')\n",
    "plt.xticks(rotation=45, ha='right')\n",
    "plt.show()\n",
    "\n"
   ]
  },
  {
   "cell_type": "markdown",
   "id": "cee3b2cc-ea5d-4200-aee2-dcf18ec52844",
   "metadata": {},
   "source": [
    "The bar chart displays the top 15 countries with the highest per capita CO2 emissions in 2022. Each bar represents a country, and its height indicates the amount of CO2 emitted per person. The magenta color emphasizes the data. This visualization helps identify countries contributing the most to per capita carbon emissions.\n",
    "\n",
    "____"
   ]
  },
  {
   "cell_type": "code",
   "execution_count": null,
   "id": "5ddb2aad-6dbc-497c-8d2f-8330c2a629c3",
   "metadata": {},
   "outputs": [],
   "source": [
    "sns.kdeplot(data=co2_emissions_df, x='percent_change', fill=True, common_norm=False)\n",
    "plt.title('Kernel Density Estimate (KDE) Plot for Percent Change in CO2 Emissions from 1990 - 2022')\n",
    "plt.xlabel('Percent Change')\n",
    "plt.ylabel('Density')\n",
    "plt.show()"
   ]
  },
  {
   "cell_type": "markdown",
   "id": "a962a5e2-60bf-4a5f-b965-2a9967adad48",
   "metadata": {},
   "source": [
    "The Kernel Density Estimate (KDE) plot visualizes the distribution of percent changes in CO2 emissions from 1990 to 2022. It displays the likelihood of observing different percent changes, providing insights into the data's distribution. This helps identify patterns, such as concentration around specific values, helping environmental trend analysis.\n",
    "\n",
    "____"
   ]
  },
  {
   "cell_type": "code",
   "execution_count": null,
   "id": "f950493f-2102-4921-aab1-ce04713d6067",
   "metadata": {},
   "outputs": [],
   "source": [
    "def update_plot(selected_country):\n",
    "    country_data = co2_emissions_df[co2_emissions_df['country/territory'] == selected_country]\n",
    "    plt.figure(figsize=(12, 6))\n",
    "    plt.plot(country_data.columns[1:6], country_data.iloc[0, 1:6], marker='o')\n",
    "    plt.xlabel('Year')\n",
    "    plt.ylabel('CO2 Emissions (Million Metric Tons)')\n",
    "    plt.title(f'CO2 Emissions Over Time for {selected_country}')\n",
    "    plt.show()\n",
    "\n",
    "country_names = co2_emissions_df['country/territory'].tolist()\n",
    "\n",
    "country_dropdown = widgets.Dropdown(\n",
    "    options=country_names,\n",
    "    value='United states',  # Default selected country\n",
    "    description='Select Country:',\n",
    "    disabled=False,\n",
    "    layout={'width': '300px'},\n",
    "    style={'description_width': 'initial'}\n",
    ")\n",
    "\n",
    "output = interactive_output(update_plot, {'selected_country': country_dropdown})\n",
    "\n",
    "widgets.VBox([country_dropdown, output])"
   ]
  },
  {
   "cell_type": "markdown",
   "id": "a6d739fd-5666-4fe5-9faa-b9c4f8205638",
   "metadata": {},
   "source": [
    "The line plot displays the annual CO2 emissions in million metric tons for a selected country over five years. Each point on the line represents the emissions for a specific year. This visualization helps observe trends and fluctuations in a country's carbon footprint, providing valuable insights into its environmental impact. The dropdown menu allows users to choose different countries for comparison, facilitating a better understanding of global carbon emission patterns.\n",
    "\n",
    "____"
   ]
  },
  {
   "cell_type": "code",
   "execution_count": null,
   "id": "aa353914-036f-46d1-bb1c-2a92772d44e4",
   "metadata": {},
   "outputs": [],
   "source": [
    "top_countries = co2_emissions_df.nlargest(5, 'fossil_CO2_emissions_2022')\n",
    "\n",
    "plt.figure(figsize=(12, 6))\n",
    "\n",
    "for country in top_countries['country/territory']:\n",
    "    country_data = co2_emissions_df[co2_emissions_df['country/territory'] == country]\n",
    "    plt.plot(country_data.columns[1:6], country_data.iloc[0, 1:6], label=country, linewidth=3)\n",
    "\n",
    "plt.xlabel('Year')\n",
    "plt.ylabel('CO2 Emissions')\n",
    "plt.title('Top 5 Countries: Change in Fossil CO2 Emissions (1970-2022)')\n",
    "plt.legend(bbox_to_anchor=(1.05, 1), loc='upper left', borderaxespad=0., fontsize='medium')\n",
    "plt.grid(True, linestyle='--', alpha=0.7)\n",
    "plt.show()\n"
   ]
  },
  {
   "cell_type": "markdown",
   "id": "88e08beb-a383-4741-93c3-aeb4e463f92b",
   "metadata": {},
   "source": [
    "This line plot compares the change in fossil CO2 emissions from 1970 to 2022 for the top 5 countries. Each country has a distinct line, showcasing its emissions trend over time. This visualization helps identify patterns and variations in carbon emissions, crucial for understanding environmental impacts and policy assessments.\n",
    "\n",
    "____"
   ]
  },
  {
   "cell_type": "code",
   "execution_count": null,
   "id": "5cade3b5-a3fb-4832-abc8-ac180187970c",
   "metadata": {},
   "outputs": [],
   "source": [
    "custom_colors = ['cyan', 'purple', 'maroon', 'yellow', 'green']\n",
    "\n",
    "world_total_distribution = renewable_energy_df.iloc[:, 3:].sum()\n",
    "\n",
    "plt.figure(figsize=(8, 8))\n",
    "plt.pie(world_total_distribution, labels=renewable_energy_df.columns[3:], autopct='%1.1f%%', startangle=140, colors=custom_colors)\n",
    "plt.title('Renewable Energy Distribution for the Entire World')\n",
    "plt.show()"
   ]
  },
  {
   "cell_type": "markdown",
   "id": "54686c6d-02e0-49ee-9d02-f7e7db61e7db",
   "metadata": {},
   "source": [
    "The pie chart illustrates the global distribution of renewable energy sources, represented by different colors. Each color corresponds to a specific type of renewable energy, such as solar, wind, and hydropower. The chart provides a visual breakdown of the contribution of each energy source to the total renewable energy production worldwide. This helps us understand the relative importance of each source in our efforts to use sustainable and environmentally friendly energy.\n",
    "\n",
    "___"
   ]
  },
  {
   "cell_type": "code",
   "execution_count": null,
   "id": "f161e128-e1e2-4613-af93-8c4acfc146f9",
   "metadata": {},
   "outputs": [],
   "source": [
    "top_countries_renewable_generation = renewable_energy_df.nlargest(5, 'renewable_generation(GWh)')\n",
    "plt.figure(figsize=(10, 6))\n",
    "plt.bar(top_countries_renewable_generation['country/dependency'], top_countries_renewable_generation['renewable_generation(GWh)'], color='lightgreen')\n",
    "plt.xlabel('Country/Dependency')\n",
    "plt.ylabel('Renewable Energy Generation (GWh)')\n",
    "plt.title('Top 5 Countries by Renewable Energy Generation')\n",
    "plt.xticks(rotation=45, ha='right')\n",
    "plt.show()\n"
   ]
  },
  {
   "cell_type": "markdown",
   "id": "87200a66-67b7-4818-8761-2855b10f02e2",
   "metadata": {},
   "source": [
    "This bar plot displays the top 5 countries/dependencies with the highest renewable energy generation (in gigawatt-hours). Each bar represents a country, and the bar's height indicates the amount of renewable energy it produces. We use this plot to easily compare and identify the leading contributors to global renewable energy production. It helps visualize which regions are making significant strides in sustainable energy generation.\n",
    "\n",
    "______"
   ]
  },
  {
   "cell_type": "code",
   "execution_count": null,
   "id": "530e9252-e6d1-4664-a50d-b41db990c6ec",
   "metadata": {},
   "outputs": [],
   "source": [
    "def update_plot(selected_energy_type):\n",
    "    top_countries_energy_type = renewable_energy_df.nlargest(10, selected_energy_type)\n",
    "    plt.figure(figsize=(12, 8))\n",
    "    \n",
    "    for country in top_countries_energy_type['country/dependency']:\n",
    "        country_data = renewable_energy_df[renewable_energy_df['country/dependency'] == country]\n",
    "        plt.bar(country_data['country/dependency'], country_data[selected_energy_type], label=country)\n",
    "    \n",
    "    plt.xlabel('Country/Dependency')\n",
    "    plt.ylabel(f'Percentage of {selected_energy_type} Energy')\n",
    "    plt.title(f'Top 10 Countries by {selected_energy_type} Percentage')\n",
    "    plt.xticks(rotation=45, ha='right')\n",
    "    plt.legend(bbox_to_anchor=(1.05, 1), loc='upper left')\n",
    "    plt.show()\n",
    "\n",
    "energy_types = ['percent_hydro', 'percent_wind', 'percent_bio', 'percent_solar', 'percent_geo']\n",
    "\n",
    "energy_type_dropdown = widgets.Dropdown(\n",
    "    options=energy_types,\n",
    "    value='percent_solar',  # Default selected energy type\n",
    "    description='Select Energy Type:',\n",
    "    disabled=False,\n",
    "    layout={'width': '300px'},\n",
    "    style={'description_width': 'initial'}\n",
    ")\n",
    "\n",
    "output = interactive_output(update_plot, {'selected_energy_type': energy_type_dropdown})\n",
    "\n",
    "widgets.VBox([energy_type_dropdown, output])"
   ]
  },
  {
   "cell_type": "markdown",
   "id": "25899681-39a0-4b08-9f17-343770e4ed1c",
   "metadata": {},
   "source": [
    "The bar plot displays the top 10 countries/dependencies based on their percentage of renewable energy in a selected category like solar, wind, bio, hydro, or geo. Each bar represents a country, and its height shows the percentage of renewable energy in that category. This visualization helps compare and identify leading countries in different renewable energy sources, providing insights into global sustainability efforts and energy diversity.\n",
    "\n",
    "___"
   ]
  },
  {
   "cell_type": "code",
   "execution_count": null,
   "id": "80402899-87df-4f9e-ad75-90a19633d691",
   "metadata": {},
   "outputs": [],
   "source": [
    "data = renewable_energy_df[['percent_hydro', 'percent_wind', 'percent_bio', 'percent_solar', 'percent_geo']]\n",
    "plt.figure(figsize=(12, 8))\n",
    "\n",
    "sns.boxplot(data=data, palette=\"Set2\")\n",
    "\n",
    "plt.title('Box Plot: Distribution of Renewable Energy Types')\n",
    "plt.xlabel('Renewable Energy Types')\n",
    "plt.ylabel('Percentage')\n",
    "plt.show()"
   ]
  },
  {
   "cell_type": "markdown",
   "id": "5b6a649d-776c-48ad-af79-4bf294ec35bf",
   "metadata": {},
   "source": [
    "The box plot illustrates the distribution of renewable energy types—hydro, wind, bio, solar, and geothermal. Each box represents the range of values for a specific energy type. The box's height indicates the interquartile range (IQR), showcasing where most data lies. Outliers, if any, are displayed as individual points. This plot helps us understand the variability and central tendency of each renewable energy source, aiding in effective analysis and comparison.\n",
    "\n",
    "___"
   ]
  },
  {
   "cell_type": "code",
   "execution_count": null,
   "id": "8ace8f44-54ba-4971-839c-83bc629d4b2d",
   "metadata": {},
   "outputs": [],
   "source": []
  },
  {
   "cell_type": "markdown",
   "id": "cf6694c0-0856-4695-97dd-61a3999cb00d",
   "metadata": {
    "jp-MarkdownHeadingCollapsed": true
   },
   "source": [
    "## Clustering"
   ]
  },
  {
   "cell_type": "code",
   "execution_count": null,
   "id": "c349dce4-a04e-4031-9a5f-313200751baf",
   "metadata": {},
   "outputs": [],
   "source": [
    "#importing libraries \n",
    "\n",
    "from sklearn.cluster import KMeans\n",
    "from sklearn.preprocessing import StandardScaler\n",
    "from sklearn.metrics import silhouette_score\n",
    "\n",
    "from scipy.cluster.hierarchy import linkage, dendrogram\n",
    "from sklearn.metrics.pairwise import cosine_similarity\n",
    "\n",
    "from sklearn.decomposition import PCA"
   ]
  },
  {
   "cell_type": "code",
   "execution_count": null,
   "id": "20189b0a-3773-4cf5-9eb3-cde20a8edd5a",
   "metadata": {},
   "outputs": [],
   "source": [
    "numeric_columns = ['percent_renewable', 'renewable_generation(GWh)', 'percent_hydro', 'percent_wind', 'percent_bio', 'percent_solar', 'percent_geo']\n",
    "data_for_clustering = renewable_energy_df[numeric_columns]\n",
    "\n",
    "scaler = StandardScaler()\n",
    "scaled_data = scaler.fit_transform(data_for_clustering)\n",
    "\n",
    "scaled_data_df = pd.DataFrame(scaled_data, columns=numeric_columns)\n",
    "\n",
    "scaled_data_df.head()"
   ]
  },
  {
   "cell_type": "code",
   "execution_count": null,
   "id": "30fc3517-4eed-4122-826d-180413c88de5",
   "metadata": {},
   "outputs": [],
   "source": [
    "numeric_columns = ['percent_renewable', 'renewable_generation(GWh)', 'percent_hydro', 'percent_wind', 'percent_bio', 'percent_solar', 'percent_geo']\n",
    "data_for_clustering = renewable_energy_df[numeric_columns]\n",
    "\n",
    "scaler = StandardScaler()\n",
    "scaled_data = scaler.fit_transform(data_for_clustering)\n",
    "\n",
    "wcss = [] \n",
    "\n",
    "for k in range(1, 11):\n",
    "    kmeans = KMeans(n_clusters=k, random_state=42)\n",
    "    kmeans.fit(scaled_data)\n",
    "    wcss.append(kmeans.inertia_)\n",
    "\n",
    "# Elbow curve plot\n",
    "plt.plot(range(1, 11), wcss, marker='o')\n",
    "plt.title('Elbow Method for Optimal k')\n",
    "plt.xlabel('Number of Clusters (k)')\n",
    "plt.ylabel('Within-Cluster Sum of Squares (WCSS)')\n",
    "plt.show()"
   ]
  },
  {
   "cell_type": "code",
   "execution_count": null,
   "id": "6295addb-98a8-4b47-900d-7a91ddbb302b",
   "metadata": {},
   "outputs": [],
   "source": [
    "silhouette_scores = []\n",
    "\n",
    "for k in range(2, 11):\n",
    "    kmeans = KMeans(n_clusters=k, random_state=42)\n",
    "    labels = kmeans.fit_predict(scaled_data)\n",
    "    silhouette_avg = silhouette_score(scaled_data, labels)\n",
    "    silhouette_scores.append(silhouette_avg)\n",
    "\n",
    "plt.plot(range(2, 11), silhouette_scores, marker='o')\n",
    "plt.title('Silhouette Score for Optimal k')\n",
    "plt.xlabel('Number of Clusters (k)')\n",
    "plt.ylabel('Silhouette Score')\n",
    "plt.show()"
   ]
  },
  {
   "cell_type": "markdown",
   "id": "77f07820-a53b-4ed6-a416-481897518855",
   "metadata": {},
   "source": [
    "From elbow method and silhouette score we observe that k=6 is optimal number of k"
   ]
  },
  {
   "cell_type": "code",
   "execution_count": null,
   "id": "4477a8c9-4e7e-4986-9d93-7c89619265e8",
   "metadata": {},
   "outputs": [],
   "source": [
    "numeric_columns_renewable = renewable_energy_df.select_dtypes(include=['float64']).columns\n",
    "data_for_clustering_renewable = renewable_energy_df[numeric_columns_renewable]\n",
    "\n",
    "scaler_renewable = StandardScaler()\n",
    "scaled_data_renewable = scaler_renewable.fit_transform(data_for_clustering_renewable)\n",
    "\n",
    "# We are trying for different values of k\n",
    "for k in [5, 6, 7]:\n",
    "    kmeans_renewable = KMeans(n_clusters=k, random_state=42)\n",
    "    renewable_energy_df['cluster'] = kmeans_renewable.fit_predict(scaled_data_renewable)\n",
    "\n",
    "    # Plot clusters based on percent_renewable and percent_wind\n",
    "    plt.figure(figsize=(8, 6))\n",
    "    plt.scatter(renewable_energy_df['percent_renewable'], renewable_energy_df['percent_wind'], c=renewable_energy_df['cluster'], cmap='plasma', s=20)\n",
    "    plt.title(f'K-Means Clustering (k={k}): Percent Renewable vs Percent Wind')\n",
    "    plt.xlabel('Percent Renewable')\n",
    "    plt.ylabel('Percent Wind')\n",
    "    plt.show()"
   ]
  },
  {
   "cell_type": "markdown",
   "id": "78e83ea1-46ca-4611-873d-ed15a9d38c86",
   "metadata": {
    "jp-MarkdownHeadingCollapsed": true
   },
   "source": [
    "### Hierarchical Clustering"
   ]
  },
  {
   "cell_type": "code",
   "execution_count": null,
   "id": "cf25f206-7d93-4c86-9f10-901468d35e91",
   "metadata": {},
   "outputs": [],
   "source": [
    "numeric_columns_renewable = renewable_energy_df.select_dtypes(include=['float64']).columns\n",
    "data_for_clustering_renewable = renewable_energy_df[numeric_columns_renewable]\n",
    "\n",
    "scaler_renewable = StandardScaler()\n",
    "scaled_data_renewable = scaler_renewable.fit_transform(data_for_clustering_renewable)\n",
    "\n",
    "# cosine similarity matrix\n",
    "cosine_similarity_matrix = cosine_similarity(scaled_data_renewable)\n",
    "\n",
    "# linkage matrix using cosine similarity\n",
    "linkage_matrix_cosine = linkage(1 - cosine_similarity_matrix, method='ward')\n",
    "\n",
    "# Dendrogram plot\n",
    "plt.figure(figsize=(15, 8))\n",
    "dendrogram(linkage_matrix_cosine, labels=renewable_energy_df['country/dependency'].tolist(), orientation='top', distance_sort='descending', show_leaf_counts=True)\n",
    "plt.title('Hierarchical Clustering Dendrogram with Cosine Similarity')\n",
    "plt.xlabel('Countries/Dependencies')\n",
    "plt.ylabel('Distance')\n",
    "plt.show()"
   ]
  },
  {
   "cell_type": "markdown",
   "id": "bc01c650-4be8-4667-9f7a-32d2a8c60503",
   "metadata": {},
   "source": [
    "From above Dendrogram we can observe the luisters formed using hierarchical clustering"
   ]
  },
  {
   "cell_type": "markdown",
   "id": "f6162a2b-2d80-465f-b36a-43def16a10f2",
   "metadata": {
    "jp-MarkdownHeadingCollapsed": true
   },
   "source": [
    "### PCA"
   ]
  },
  {
   "cell_type": "code",
   "execution_count": null,
   "id": "c6933988-5f05-40fc-8ace-91754cb5a0e3",
   "metadata": {},
   "outputs": [],
   "source": [
    "# PCA to get eigenvalues and eigenvectors\n",
    "pca = PCA()\n",
    "pca.fit(scaled_data)"
   ]
  },
  {
   "cell_type": "code",
   "execution_count": null,
   "id": "6fdfcb80-a54c-4c76-8fc6-a747be10f8c7",
   "metadata": {},
   "outputs": [],
   "source": [
    "# Plot explained variance ratio\n",
    "plt.figure(figsize=(12, 6))\n",
    "plt.plot(np.cumsum(pca.explained_variance_ratio_))\n",
    "plt.title('Explained Variance Ratio')\n",
    "plt.xlabel('Number of Principal Components')\n",
    "plt.ylabel('Cumulative Explained Variance')\n",
    "plt.show()"
   ]
  },
  {
   "cell_type": "code",
   "execution_count": null,
   "id": "4ff8f7ab-e2f8-4ae0-b1cf-435bed67f562",
   "metadata": {},
   "outputs": [],
   "source": [
    "# Plot the eigenvalues\n",
    "plt.figure(figsize=(12, 6))\n",
    "plt.plot(range(1, len(pca.explained_variance_) + 1), pca.explained_variance_, marker='o')\n",
    "plt.title('Scree Plot: Eigenvalues')\n",
    "plt.xlabel('Principal Component Index')\n",
    "plt.ylabel('Eigenvalue')\n",
    "plt.show()"
   ]
  },
  {
   "cell_type": "code",
   "execution_count": null,
   "id": "e9b3f869-581f-4bf6-aace-d82fad48bb65",
   "metadata": {},
   "outputs": [],
   "source": [
    "renewable_energy_df.head()"
   ]
  },
  {
   "cell_type": "code",
   "execution_count": null,
   "id": "b32cc11f-7291-4983-bdef-d22c5213e132",
   "metadata": {},
   "outputs": [],
   "source": [
    "pca = PCA(n_components=2)\n",
    "pca_result = pca.fit_transform(scaled_data)\n",
    "\n",
    "renewable_energy_df['PCA1'] = pca_result[:, 0]\n",
    "renewable_energy_df['PCA2'] = pca_result[:, 1]\n",
    "\n",
    "# Clusters in PCA space\n",
    "plt.figure(figsize=(12, 8))\n",
    "sns.scatterplot(x='PCA1', y='PCA2', hue='cluster', data=renewable_energy_df, palette='viridis', s=50)\n",
    "plt.title('K-Means Clustering in PCA Space')\n",
    "plt.xlabel('Principal Component 1 (PCA1)')\n",
    "plt.ylabel('Principal Component 2 (PCA2)')\n",
    "plt.show()\n"
   ]
  },
  {
   "cell_type": "code",
   "execution_count": null,
   "id": "b00cb2b2-1022-46f6-a111-56ad51f61ef2",
   "metadata": {},
   "outputs": [],
   "source": [
    "renewable_energy_df.head()"
   ]
  },
  {
   "cell_type": "code",
   "execution_count": null,
   "id": "a16fbaa2-e3e6-409d-95c7-e2b491269327",
   "metadata": {},
   "outputs": [],
   "source": [
    "# loading scores\n",
    "loading_scores = pd.DataFrame(pca.components_.T, columns=['PC1', 'PC2'], index=data_for_clustering.columns)\n",
    "\n",
    "plt.figure(figsize=(12, 8))\n",
    "sns.heatmap(loading_scores, cmap='coolwarm', annot=True, fmt=\".2f\", linewidths=.5)\n",
    "plt.title('Loading Scores: Contribution of Each Column to Principal Components')\n",
    "plt.xlabel('Principal Components')\n",
    "plt.ylabel('Columns')\n",
    "plt.show()"
   ]
  },
  {
   "cell_type": "code",
   "execution_count": null,
   "id": "ad42fb50-9d72-4c37-a0e9-ea0a207bbd16",
   "metadata": {},
   "outputs": [],
   "source": [
    "data_for_clustering.head()"
   ]
  },
  {
   "cell_type": "code",
   "execution_count": null,
   "id": "eaee142e-e5f6-4e97-80c6-97a558bead8b",
   "metadata": {},
   "outputs": [],
   "source": [
    "renewable_energy_df_clustering = renewable_energy_df.copy()\n",
    "\n",
    "# Remove the specified columns from renewable_energy_df_clustering\n",
    "columns_to_remove = ['cluster', 'PCA1', 'PCA2']\n",
    "renewable_energy_df.drop(columns=columns_to_remove, inplace=True)\n",
    "\n",
    "# Check the result\n",
    "renewable_energy_df.head()\n"
   ]
  },
  {
   "cell_type": "markdown",
   "id": "0cd9e812-7cc0-42f2-a068-0fe6f6270fb3",
   "metadata": {
    "jp-MarkdownHeadingCollapsed": true
   },
   "source": [
    "## Naïve Bayes"
   ]
  },
  {
   "cell_type": "code",
   "execution_count": null,
   "id": "92b86e65-1540-4cc8-a6dd-47c4b1e11299",
   "metadata": {},
   "outputs": [],
   "source": [
    "from sklearn.model_selection import train_test_split\n",
    "from sklearn.naive_bayes import GaussianNB\n",
    "from sklearn.metrics import accuracy_score, classification_report\n",
    "from sklearn.metrics import confusion_matrix"
   ]
  },
  {
   "cell_type": "code",
   "execution_count": null,
   "id": "46b1d554-1d4e-4f1f-bd7b-62b2c14a8cd0",
   "metadata": {},
   "outputs": [],
   "source": [
    "renewable_energy_df.head()"
   ]
  },
  {
   "cell_type": "code",
   "execution_count": null,
   "id": "66836f2c-36b8-4bad-9483-ea2b4c154634",
   "metadata": {},
   "outputs": [],
   "source": [
    "# Define the bins and labels for the categories\n",
    "bins = [-1, 25, 50, 75, 100]\n",
    "labels = [-2 , -1 , 1, 2]\n",
    "\n",
    "renewable_energy_df_classified = renewable_energy_df.copy()\n",
    "\n",
    "# Create a new column with the categories\n",
    "renewable_energy_df_classified['renewable_category'] = pd.cut(renewable_energy_df['percent_renewable'], bins=bins, labels=labels, include_lowest=True)\n",
    "\n",
    "renewable_energy_df_classified.head()"
   ]
  },
  {
   "cell_type": "code",
   "execution_count": null,
   "id": "36114393-47a6-4061-92ba-4ac916c7df47",
   "metadata": {},
   "outputs": [],
   "source": [
    "for col in ['percent_hydro', 'percent_wind', 'percent_bio', 'percent_solar', 'percent_geo']:\n",
    "    threshold = renewable_energy_df[col].median()  \n",
    "    renewable_energy_df_classified[f'{col}_category'] = renewable_energy_df[col].apply(lambda x: -1 if x <= threshold else 1)\n",
    "\n",
    "renewable_energy_df_classified.head()                                                                                                                                                                                        "
   ]
  },
  {
   "cell_type": "code",
   "execution_count": null,
   "id": "5ffc9a5a-e68c-45b9-b3bb-fac8384fefc1",
   "metadata": {},
   "outputs": [],
   "source": [
    "selected_columns = ['country/dependency', 'renewable_category', 'percent_hydro_category', \n",
    "                    'percent_wind_category', 'percent_bio_category', 'percent_solar_category', \n",
    "                    'percent_geo_category']\n",
    "\n",
    "# Create a new DataFrame with only the selected columns\n",
    "renewable_energy_df_classified = renewable_energy_df_classified[selected_columns]\n",
    "\n",
    "renewable_energy_df_classified.head()"
   ]
  },
  {
   "cell_type": "code",
   "execution_count": null,
   "id": "b525ee77-bc83-46a1-8217-ffe074c10f17",
   "metadata": {},
   "outputs": [],
   "source": [
    "for col in renewable_energy_df_classified.columns:\n",
    "    if col.endswith('_category'):\n",
    "        print(renewable_energy_df_classified[col].value_counts())"
   ]
  },
  {
   "cell_type": "code",
   "execution_count": null,
   "id": "b66c71b3-139b-44cd-ad12-8fba0eb79a95",
   "metadata": {},
   "outputs": [],
   "source": [
    "# Data Preparation\n",
    "X = renewable_energy_df_classified[['percent_hydro_category', 'percent_wind_category', 'percent_bio_category', 'percent_solar_category', 'percent_geo_category']]\n",
    "y = renewable_energy_df_classified['renewable_category']  # Replace 'target_variable' with the name of your target variable\n",
    "\n",
    "X_train, X_test, y_train, y_test = train_test_split(X, y, test_size=0.2, random_state=32)"
   ]
  },
  {
   "cell_type": "code",
   "execution_count": null,
   "id": "37f95fed-feac-488f-bf4b-1d62d5dbf11d",
   "metadata": {},
   "outputs": [],
   "source": [
    "X_train.head()"
   ]
  },
  {
   "cell_type": "code",
   "execution_count": null,
   "id": "913737cd-4519-4ef7-873f-1b9b799e0a95",
   "metadata": {},
   "outputs": [],
   "source": [
    "X_test.head()"
   ]
  },
  {
   "cell_type": "code",
   "execution_count": null,
   "id": "467e27b3-eb77-4313-9a0f-a455d79de9e1",
   "metadata": {},
   "outputs": [],
   "source": [
    "y_train.head()"
   ]
  },
  {
   "cell_type": "code",
   "execution_count": null,
   "id": "cbaa0de5-6a4b-4d3a-8523-ff1786f18d75",
   "metadata": {},
   "outputs": [],
   "source": [
    "y_test.head()"
   ]
  },
  {
   "cell_type": "code",
   "execution_count": null,
   "id": "ba5534da-c9d4-4cce-9098-c9e9d8d2a6e7",
   "metadata": {},
   "outputs": [],
   "source": [
    "#Model Training\n",
    "naive_bayes = GaussianNB()\n",
    "naive_bayes.fit(X_train, y_train)\n",
    "\n",
    "y_pred = naive_bayes.predict(X_test)\n",
    "\n",
    "# accuracy\n",
    "accuracy = accuracy_score(y_test, y_pred)\n",
    "print(\"Accuracy:\", accuracy)\n",
    "\n",
    "#classification report\n",
    "print(\"Classification Report:\")\n",
    "print(classification_report(y_test, y_pred))\n"
   ]
  },
  {
   "cell_type": "code",
   "execution_count": null,
   "id": "4f64e192-7da7-47e7-b9a4-4b4f49f87b34",
   "metadata": {},
   "outputs": [],
   "source": [
    "conf_matrix_nb = confusion_matrix(y_test, y_pred)\n",
    "print(\"Confusion Matrix:\")\n",
    "print(conf_matrix_nb)"
   ]
  },
  {
   "cell_type": "code",
   "execution_count": null,
   "id": "60f996e8-7cde-4a7b-8bb7-4132880085e2",
   "metadata": {},
   "outputs": [],
   "source": [
    "# Plot confusion matrix\n",
    "plt.figure(figsize=(8, 6))\n",
    "sns.heatmap(conf_matrix_nb, annot=True, cmap='Blues', fmt='g', cbar=False,\n",
    "            xticklabels=['-2', '-1', '1', '2'], yticklabels=['-2', '-1', '1', '2'])\n",
    "plt.title('Confusion Matrix')\n",
    "plt.xlabel('Predicted Label')\n",
    "plt.ylabel('True Label')\n",
    "plt.show()"
   ]
  },
  {
   "cell_type": "markdown",
   "id": "59dad555-82c8-490f-88e8-bd8e717befe7",
   "metadata": {},
   "source": [
    "## Decision Trees"
   ]
  },
  {
   "cell_type": "code",
   "execution_count": null,
   "id": "a685fa91-40a2-4592-bb4f-e472215cfea6",
   "metadata": {},
   "outputs": [],
   "source": [
    "from sklearn.model_selection import train_test_split\n",
    "from sklearn.tree import DecisionTreeClassifier\n",
    "from sklearn.metrics import accuracy_score, classification_report\n",
    "\n",
    "# Data Preparation\n",
    "X = renewable_energy_df_classified.drop(columns=['country/dependency', 'renewable_category'])\n",
    "y = renewable_energy_df_classified['renewable_category']\n",
    "\n",
    "X_train, X_test, y_train, y_test = train_test_split(X, y, test_size=0.2, random_state=32)\n"
   ]
  },
  {
   "cell_type": "code",
   "execution_count": null,
   "id": "4fa7ca72-df94-4787-8d26-c5bcd545fd24",
   "metadata": {},
   "outputs": [],
   "source": [
    "X_train.head()"
   ]
  },
  {
   "cell_type": "code",
   "execution_count": null,
   "id": "59c79ab7-321e-4179-bca0-8bdc6cee5e1a",
   "metadata": {},
   "outputs": [],
   "source": [
    "X_test.head()"
   ]
  },
  {
   "cell_type": "code",
   "execution_count": null,
   "id": "380a87cc-54d1-44e3-b66e-2323c01a15ea",
   "metadata": {},
   "outputs": [],
   "source": [
    "y_train.head()"
   ]
  },
  {
   "cell_type": "code",
   "execution_count": null,
   "id": "cf7c7296-5f67-4fec-b95e-179fd31ddcd4",
   "metadata": {},
   "outputs": [],
   "source": [
    "y_test.head()"
   ]
  },
  {
   "cell_type": "code",
   "execution_count": null,
   "id": "b040a570-cdbb-4c55-b2d5-fd99a7d07c26",
   "metadata": {},
   "outputs": [],
   "source": [
    "\n",
    "#Model Training\n",
    "decision_tree = DecisionTreeClassifier(random_state=42)\n",
    "decision_tree.fit(X_train, y_train)\n",
    "\n",
    "y_pred = decision_tree.predict(X_test)\n",
    "\n",
    "# accuracy\n",
    "accuracy = accuracy_score(y_test, y_pred)\n",
    "print(\"Accuracy:\", accuracy)\n",
    "\n",
    "# classification report\n",
    "print(\"Classification Report:\")\n",
    "print(classification_report(y_test, y_pred))\n"
   ]
  },
  {
   "cell_type": "code",
   "execution_count": null,
   "id": "97211d24-2d7f-4b25-9527-9da252c7417b",
   "metadata": {},
   "outputs": [],
   "source": [
    "conf_matrix_dc = confusion_matrix(y_test, y_pred)\n",
    "print(\"Confusion Matrix:\")\n",
    "print(conf_matrix_dc)"
   ]
  },
  {
   "cell_type": "code",
   "execution_count": null,
   "id": "ee461fd8-0704-4b3e-8ae2-f3e1e9bbe6fa",
   "metadata": {},
   "outputs": [],
   "source": [
    "# Plot confusion matrix\n",
    "plt.figure(figsize=(8, 6))\n",
    "sns.heatmap(conf_matrix_dc, annot=True, cmap='Blues', fmt='g', cbar=False,\n",
    "            xticklabels=['-2', '-1', '1', '2'], yticklabels=['-2', '-1', '1', '2'])\n",
    "plt.title('Confusion Matrix')\n",
    "plt.xlabel('Predicted Label')\n",
    "plt.ylabel('True Label')\n",
    "plt.show()"
   ]
  },
  {
   "cell_type": "code",
   "execution_count": null,
   "id": "6a5939a2-cd9c-4610-8ee0-cf90fcbb0c31",
   "metadata": {},
   "outputs": [],
   "source": [
    "from sklearn.tree import plot_tree\n",
    "# Plot the Decision Tree\n",
    "plt.figure(figsize=(20,10))\n",
    "plot_tree(decision_tree, filled=True, feature_names=X.columns, class_names=['-2' ,'-1','1' , '2'], rounded=True)\n",
    "plt.title(\"Decision Tree Visualization\")\n",
    "plt.savefig('Media/Decision_Tree/decision_tree_visualization.png')\n",
    "plt.show()"
   ]
  },
  {
   "cell_type": "code",
   "execution_count": null,
   "id": "4beb7df4-3008-4cd1-b423-6465a6af0882",
   "metadata": {},
   "outputs": [],
   "source": [
    "### Different versions of Decision tree with different maximum leaf nodes"
   ]
  },
  {
   "cell_type": "code",
   "execution_count": null,
   "id": "1d3941a8-16f7-4483-934b-5a5a4b60e6ed",
   "metadata": {},
   "outputs": [],
   "source": [
    "# Version 1: max_leaf_nodes = 3\n",
    "decision_tree_v1 = DecisionTreeClassifier(max_leaf_nodes=3, random_state=42)\n",
    "decision_tree_v1.fit(X_train, y_train)\n",
    "\n",
    "from sklearn.tree import plot_tree\n",
    "# Plot the Decision Tree\n",
    "plt.figure(figsize=(20,10))\n",
    "plot_tree(decision_tree_v1, filled=True, feature_names=X.columns, class_names=['-2' ,'-1','1' , '2'], rounded=True)\n",
    "plt.title(\"Decision Tree Visualization (max_leaf_nodes=3)\")\n",
    "plt.show()\n"
   ]
  },
  {
   "cell_type": "code",
   "execution_count": null,
   "id": "973a1388-1571-4f91-bf26-cd6962ca5eed",
   "metadata": {},
   "outputs": [],
   "source": [
    "# Version 2: max_leaf_nodes = 5\n",
    "decision_tree_v2 = DecisionTreeClassifier(max_leaf_nodes=5, random_state=42)\n",
    "decision_tree_v2.fit(X_train, y_train)\n",
    "\n",
    "from sklearn.tree import plot_tree\n",
    "# Plot the Decision Tree\n",
    "plt.figure(figsize=(20,10))\n",
    "plot_tree(decision_tree_v2, filled=True, feature_names=X.columns, class_names=['-2' ,'-1','1' , '2'], rounded=True)\n",
    "plt.title(\"Decision Tree Visualization (max_leaf_nodes=5)\")\n",
    "plt.show()\n"
   ]
  },
  {
   "cell_type": "code",
   "execution_count": null,
   "id": "0b088ee3-e0f8-464d-9538-5b463712f0ed",
   "metadata": {},
   "outputs": [],
   "source": [
    "# Version 3: max_leaf_nodes = 8\n",
    "decision_tree_v3 = DecisionTreeClassifier(max_leaf_nodes=8, random_state=42)\n",
    "decision_tree_v3.fit(X_train, y_train)\n",
    "\n",
    "from sklearn.tree import plot_tree\n",
    "# Plot the Decision Tree\n",
    "plt.figure(figsize=(20,10))\n",
    "plot_tree(decision_tree_v3, filled=True, feature_names=X.columns, class_names=['-2' ,'-1','1' , '2'], rounded=True)\n",
    "plt.title(\"Decision Tree Visualization (max_leaf_nodes=8)\")\n",
    "plt.show()\n"
   ]
  },
  {
   "cell_type": "markdown",
   "id": "b2b7a487-f747-4939-ae84-f8874e01104d",
   "metadata": {},
   "source": [
    "## Support Vector Machines (SVMs)"
   ]
  },
  {
   "cell_type": "code",
   "execution_count": null,
   "id": "960f7474-6b0b-4648-8704-5e2e94eb9f78",
   "metadata": {},
   "outputs": [],
   "source": [
    "from sklearn.svm import SVC\n",
    "from sklearn.metrics import accuracy_score, classification_report\n",
    "from sklearn.model_selection import train_test_split\n",
    "\n",
    "import matplotlib.pyplot as plt\n",
    "import seaborn as sns\n",
    "from sklearn.metrics import confusion_matrix\n",
    "from sklearn.svm import SVC"
   ]
  },
  {
   "cell_type": "code",
   "execution_count": null,
   "id": "0bee6461-fa3d-4a28-a143-2d846fa47077",
   "metadata": {},
   "outputs": [],
   "source": [
    "# Data Preparation\n",
    "X = renewable_energy_df_classified.drop(columns=['country/dependency', 'renewable_category'])\n",
    "y = renewable_energy_df_classified['renewable_category']\n",
    "\n",
    "# Train-Test Split\n",
    "X_train, X_test, y_train, y_test = train_test_split(X, y, test_size=0.2, random_state=42)\n"
   ]
  },
  {
   "cell_type": "code",
   "execution_count": null,
   "id": "f004cdf9-f076-4907-8b4a-a69c5ca61782",
   "metadata": {},
   "outputs": [],
   "source": [
    "X_train.head()"
   ]
  },
  {
   "cell_type": "code",
   "execution_count": null,
   "id": "91424508-72a5-4ddf-a181-631a62bd0229",
   "metadata": {},
   "outputs": [],
   "source": [
    "X_test.head()"
   ]
  },
  {
   "cell_type": "code",
   "execution_count": null,
   "id": "a13e453d-5012-43b9-b9b5-d193325fcb44",
   "metadata": {},
   "outputs": [],
   "source": [
    "y_train.head()"
   ]
  },
  {
   "cell_type": "code",
   "execution_count": null,
   "id": "91d4990a-cab4-4b56-b80b-029a1fbc7cfa",
   "metadata": {},
   "outputs": [],
   "source": [
    "y_test.head()"
   ]
  },
  {
   "cell_type": "code",
   "execution_count": null,
   "id": "f7a32fef-269a-413d-aaf8-594a32574fde",
   "metadata": {},
   "outputs": [],
   "source": [
    "# Different values of C for each kernel\n",
    "c_values = [0.1, 1, 10]\n",
    "\n",
    "def train_svm(kernel, c):\n",
    "    svm_classifier = SVC(kernel=kernel, C=c, random_state=32)\n",
    "    svm_classifier.fit(X_train, y_train)\n",
    "    \n",
    "    y_pred = svm_classifier.predict(X_test)\n",
    "    \n",
    "    conf_matrix = confusion_matrix(y_test, y_pred)\n",
    "    \n",
    "    return conf_matrix\n"
   ]
  },
  {
   "cell_type": "code",
   "execution_count": null,
   "id": "966a49e1-65cc-43c0-ada4-18cafa8c8e26",
   "metadata": {},
   "outputs": [],
   "source": [
    "# Training and evaluating SVM classifiers for each kernel and C value\n",
    "\n",
    "conf_matrices = {}\n",
    "for kernel in ['linear', 'poly', 'rbf']:\n",
    "    conf_matrices[kernel] = {}\n",
    "    for c in c_values:\n",
    "        conf_matrices[kernel][c] = train_svm(kernel, c)"
   ]
  },
  {
   "cell_type": "code",
   "execution_count": null,
   "id": "2dc43573-5223-484c-a79b-57e65486532d",
   "metadata": {
    "scrolled": true
   },
   "outputs": [],
   "source": [
    "# Plot confusion matrices for each kernel and C value\n",
    "\n",
    "plt.figure(figsize=(20, 12))\n",
    "for i, kernel in enumerate(['linear', 'poly', 'rbf']):\n",
    "    for j, c in enumerate(c_values):\n",
    "        plt.subplot(3, 3, i * 3 + j + 1)\n",
    "        conf_matrix = train_svm(kernel, c)  # Train SVM classifier and get confusion matrix\n",
    "        sns.heatmap(conf_matrix, annot=True, cmap='Blues', fmt='g', cbar=False)\n",
    "        plt.title(f'{kernel.capitalize()} Kernel, C={c}')\n",
    "        plt.xlabel('Predicted Label')\n",
    "        plt.ylabel('True Label')\n",
    "plt.tight_layout()\n",
    "\n",
    "plt.savefig(\"Media/SVM/SVM.png\")\n",
    "\n",
    "plt.show()\n",
    "\n"
   ]
  },
  {
   "cell_type": "code",
   "execution_count": null,
   "id": "a9309171-25bf-4f94-a5ef-a1a313873252",
   "metadata": {},
   "outputs": [],
   "source": [
    "# Visualization to compare the performance of the kernels\n",
    "accuracies = {\n",
    "    'linear': [accuracy_score(y_test, SVC(kernel='linear', C=c, random_state=42).fit(X_train, y_train).predict(X_test)) for c in c_values],\n",
    "    'poly': [accuracy_score(y_test, SVC(kernel='poly', C=c, random_state=42).fit(X_train, y_train).predict(X_test)) for c in c_values],\n",
    "    'rbf': [accuracy_score(y_test, SVC(kernel='rbf', C=c, random_state=42).fit(X_train, y_train).predict(X_test)) for c in c_values]\n",
    "}"
   ]
  },
  {
   "cell_type": "code",
   "execution_count": null,
   "id": "a693ac72-c16c-4f4a-89e7-23ccbf27a389",
   "metadata": {},
   "outputs": [],
   "source": [
    "for kernel, acc_list in accuracies.items():\n",
    "    print(f\"Accuracy for {kernel.capitalize()} kernel:\")\n",
    "    for c, acc in zip(c_values, acc_list):\n",
    "        print(f\"C={c}: {acc:.4f}\")\n",
    "    print()"
   ]
  },
  {
   "cell_type": "code",
   "execution_count": null,
   "id": "9841edf1-0686-4565-8737-bd2e8ecd2ae5",
   "metadata": {},
   "outputs": [],
   "source": [
    "plt.figure(figsize=(10, 6))\n",
    "for kernel in ['linear', 'poly', 'rbf']:\n",
    "    plt.plot(c_values, accuracies[kernel], marker='o', label=kernel.capitalize())\n",
    "plt.title('Accuracy vs. C for Different Kernels')\n",
    "plt.xlabel('Cost Parameter (C)')\n",
    "plt.ylabel('Accuracy')\n",
    "plt.xticks(c_values)\n",
    "plt.legend()\n",
    "plt.grid(True)\n",
    "plt.show()"
   ]
  },
  {
   "cell_type": "code",
   "execution_count": null,
   "id": "5959cf2d-90f1-483b-86f1-a36da0e584a5",
   "metadata": {},
   "outputs": [],
   "source": []
  },
  {
   "cell_type": "code",
   "execution_count": null,
   "id": "5de07ea6-e9c9-4554-8260-e316da8e6a66",
   "metadata": {},
   "outputs": [],
   "source": [
    "# Optimal\n",
    "\n",
    "svm_classifier_optmial = SVC(kernel='linear', C=1, random_state=32)\n",
    "svm_classifier_optmial.fit(X_train, y_train)\n",
    "\n",
    "# Model Evaluation\n",
    "y_pred = svm_classifier_optmial.predict(X_test)\n",
    "accuracy = accuracy_score(y_test, y_pred)\n",
    "print(\"Linear kernel ; C=1 \")\n",
    "print(\"Accuracy:\", accuracy)\n",
    "print(\"Classification Report:\")\n",
    "print(classification_report(y_test, y_pred))"
   ]
  },
  {
   "cell_type": "code",
   "execution_count": null,
   "id": "74f26269-b223-417e-b1b4-f16cb36087d2",
   "metadata": {},
   "outputs": [],
   "source": []
  },
  {
   "cell_type": "code",
   "execution_count": null,
   "id": "5915f3b2-a137-4d5b-b892-841e621cef9d",
   "metadata": {},
   "outputs": [],
   "source": []
  }
 ],
 "metadata": {
  "kernelspec": {
   "display_name": "Python 3 (ipykernel)",
   "language": "python",
   "name": "python3"
  },
  "language_info": {
   "codemirror_mode": {
    "name": "ipython",
    "version": 3
   },
   "file_extension": ".py",
   "mimetype": "text/x-python",
   "name": "python",
   "nbconvert_exporter": "python",
   "pygments_lexer": "ipython3",
   "version": "3.11.5"
  }
 },
 "nbformat": 4,
 "nbformat_minor": 5
}
